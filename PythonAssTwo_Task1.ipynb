{
 "cells": [
  {
   "cell_type": "markdown",
   "metadata": {},
   "source": [
    "### Create myReduce() function which works exactly like python's built in reduce() function."
   ]
  },
  {
   "cell_type": "code",
   "execution_count": 52,
   "metadata": {},
   "outputs": [
    {
     "name": "stdout",
     "output_type": "stream",
     "text": [
      "Total of all list elements:  45\n",
      "Multiplication of all list elements:  362880\n"
     ]
    }
   ],
   "source": [
    "temp_list = [1, 2, 3, 4, 5, 6, 7, 8, 9]\n",
    "\n",
    "# function to provide sum of two passed arguments.\n",
    "def sum_func(a, b):\n",
    "    return a + b\n",
    "\n",
    "# assigned sum function to variable in order to use in myReduce funtion.\n",
    "sum_and_reduce = sum_func\n",
    "\n",
    "# function to provide multiplication of passed arguments.\n",
    "def mul_func(a, b):\n",
    "    return a * b\n",
    "\n",
    "# assigned mul function to variable in order to use in myReduce function.\n",
    "mul_and_reduce = mul_func\n",
    "\n",
    "# custom reduce function, iterate through list and keep making total of all elements.\n",
    "def myReduce(reduce_func, temp_list):\n",
    "    element = temp_list[0]\n",
    "    for i in temp_list[1:]:\n",
    "        element = reduce_func(element, i)\n",
    "    return element\n",
    "\n",
    "print(\"Total of all list elements: \", myReduce(sum_and_reduce, temp_list))\n",
    "print(\"Multiplication of all list elements: \", myReduce(mul_and_reduce, temp_list))\n",
    "    "
   ]
  },
  {
   "cell_type": "markdown",
   "metadata": {},
   "source": [
    "### Create myFilter() function which works exactly like python's built in filter() function"
   ]
  },
  {
   "cell_type": "code",
   "execution_count": 66,
   "metadata": {},
   "outputs": [
    {
     "name": "stdout",
     "output_type": "stream",
     "text": [
      "Even number list:  [2, 4, 6, 8]\n",
      "Odd number list:  [1, 3, 5, 7]\n"
     ]
    }
   ],
   "source": [
    "num_list = [1,2,3,4,5,6,7,8]\n",
    "odd_list = []\n",
    "even_list = []\n",
    "def filter_odd(num):\n",
    "    if num % 2 != 0:\n",
    "        odd_list.append(num)\n",
    "    return odd_list \n",
    "\n",
    "odd = filter_odd\n",
    "\n",
    "def filter_even(num):\n",
    "    if num % 2 == 0:\n",
    "        even_list.append(num)\n",
    "    return even_list\n",
    "\n",
    "even = filter_even\n",
    "\n",
    "def myFilter(filterOddEven, num_list):\n",
    "    list1 = []\n",
    "    for i in num_list:\n",
    "        list1 = filterOddEven(i)\n",
    "    return list1\n",
    "\n",
    "print(\"Even number list: \", myFilter(even, num_list))\n",
    "print(\"Odd number list: \", myFilter(odd, num_list))\n",
    "    "
   ]
  },
  {
   "cell_type": "markdown",
   "metadata": {},
   "source": [
    "### List comprehension to produce following result."
   ]
  },
  {
   "cell_type": "code",
   "execution_count": 102,
   "metadata": {},
   "outputs": [
    {
     "name": "stdout",
     "output_type": "stream",
     "text": [
      "['A', 'C', 'A', 'D', 'G', 'I', 'L', 'D']\n",
      "['X', 'XX', 'XXX', 'XXXX', 'Y', 'YY', 'YYY', 'YYYY', 'Z', 'ZZ', 'ZZZ', 'ZZZZ']\n",
      "['X', 'Y', 'Z', 'XX', 'YY', 'ZZ', 'XXX', 'YYY', 'ZZZ', 'XXXX', 'YYYY', 'ZZZZ']\n",
      "[[2], [3], [4], [3], [4], [5], [4], [5], [6]]\n",
      "[[2, 3, 4, 5], [3, 4, 5, 6], [4, 5, 6, 7], [5, 6, 7, 8]]\n",
      "[(1, 1), (2, 1), (3, 1), (1, 2), (2, 2), (3, 2), (1, 3), (2, 3), (3, 3)]\n"
     ]
    }
   ],
   "source": [
    "# ['A', 'C', 'A', 'D', 'G', 'I', ’L’, ‘ D’]\n",
    "\n",
    "result_list1 = [char for char in 'ACADGILD']\n",
    "print(result_list1)\n",
    "\n",
    "# ['x', 'xx', 'xxx', 'xxxx', 'y', 'yy', 'yyy', 'yyyy', 'z', 'zz', 'zzz', 'zzzz']\n",
    "result_list2 = [char*num for char in 'XYZ' for num in range(1,5)]\n",
    "print(result_list2)\n",
    "\n",
    "# ['x', 'y', 'z', 'xx', 'yy', 'zz', 'xx', 'yy', 'zz', 'xxxx', 'yyyy', 'zzzz']\n",
    "result_list3 = [char*num for num in range(1,5) for char in 'XYZ']\n",
    "print(result_list3)\n",
    "\n",
    "# [[2], [3], [4], [3], [4], [5], [4], [5], [6]]\n",
    "result_list4 = [[num+i] for num in range(1,4) for i in range(1,4)]\n",
    "print(result_list4)\n",
    "\n",
    "# [[2,3,4,5], [3,4,5,6], [4,5,6,7], [5,6,7,8]]\n",
    "result_list5 = [[num+i for i in range(0,4)] for num in range(2, 6)]\n",
    "print(result_list5)\n",
    "\n",
    "#[(1,1), (2,1), (3,1), (1,2), (2,2), (3,2), (1,3), (2,3), (3,3)]\n",
    "result_list6 = [(l2, l1) for l1 in range(1,4) for l2 in range(1,4)]\n",
    "print(result_list6)"
   ]
  },
  {
   "cell_type": "markdown",
   "metadata": {},
   "source": [
    "### Implement function longestWord() that takes list of words and return longes word."
   ]
  },
  {
   "cell_type": "code",
   "execution_count": 110,
   "metadata": {},
   "outputs": [
    {
     "name": "stdout",
     "output_type": "stream",
     "text": [
      "26\n"
     ]
    }
   ],
   "source": [
    "def longestWord(str_list):\n",
    "    min_len = len(str_list[0])\n",
    "    for strg in str_list[1:]:\n",
    "        if len(strg)>min_len:\n",
    "            min_len = len(strg)\n",
    "    return min_len\n",
    "\n",
    "print(longestWord(['X', 'XX', 'XXX', 'XXXX', 'Y', 'YY', 'YYY', 'YYYadsfsdY', 'Z', 'ZZ', 'ZZZ', 'ZZsdfsdfsdfdsfdsfsdfdsfsZZ']))"
   ]
  },
  {
   "cell_type": "code",
   "execution_count": null,
   "metadata": {},
   "outputs": [],
   "source": []
  }
 ],
 "metadata": {
  "kernelspec": {
   "display_name": "Python 3",
   "language": "python",
   "name": "python3"
  },
  "language_info": {
   "codemirror_mode": {
    "name": "ipython",
    "version": 3
   },
   "file_extension": ".py",
   "mimetype": "text/x-python",
   "name": "python",
   "nbconvert_exporter": "python",
   "pygments_lexer": "ipython3",
   "version": "3.7.3"
  }
 },
 "nbformat": 4,
 "nbformat_minor": 2
}
