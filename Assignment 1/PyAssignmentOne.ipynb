{
 "cells": [
  {
   "cell_type": "code",
   "execution_count": 16,
   "metadata": {},
   "outputs": [
    {
     "name": "stdout",
     "output_type": "stream",
     "text": [
      "Hello world greeting message.\n"
     ]
    }
   ],
   "source": [
    "print(\"Hello world greeting message.\")"
   ]
  },
  {
   "cell_type": "code",
   "execution_count": 5,
   "metadata": {
    "scrolled": true
   },
   "outputs": [
    {
     "name": "stdout",
     "output_type": "stream",
     "text": [
      "Numbers divisible by 7 but not are in multiple of 5:\n",
      "2002, 2009, 2016, 2023, 2037, 2044, 2051, 2058, 2072, 2079, 2086, 2093, 2107, 2114, 2121, 2128, 2142, 2149, 2156, 2163, 2177, 2184, 2191, 2198, 2212, 2219, 2226, 2233, 2247, 2254, 2261, 2268, 2282, 2289, 2296, 2303, 2317, 2324, 2331, 2338, 2352, 2359, 2366, 2373, 2387, 2394, 2401, 2408, 2422, 2429, 2436, 2443, 2457, 2464, 2471, 2478, 2492, 2499, 2506, 2513, 2527, 2534, 2541, 2548, 2562, 2569, 2576, 2583, 2597, 2604, 2611, 2618, 2632, 2639, 2646, 2653, 2667, 2674, 2681, 2688, 2702, 2709, 2716, 2723, 2737, 2744, 2751, 2758, 2772, 2779, 2786, 2793, 2807, 2814, 2821, 2828, 2842, 2849, 2856, 2863, 2877, 2884, 2891, 2898, 2912, 2919, 2926, 2933, 2947, 2954, 2961, 2968, 2982, 2989, 2996, 3003, 3017, 3024, 3031, 3038, 3052, 3059, 3066, 3073, 3087, 3094, 3101, 3108, 3122, 3129, 3136, 3143, 3157, 3164, 3171, 3178, 3192, 3199, "
     ]
    }
   ],
   "source": [
    "print(\"Numbers divisible by 7 but not are in multiple of 5:\")\n",
    "\n",
    "for i in range(2000, 3201):\n",
    "    if(i%7 == 0 and i%5 != 0):\n",
    "        print(i, end=', ')"
   ]
  },
  {
   "cell_type": "code",
   "execution_count": 12,
   "metadata": {},
   "outputs": [
    {
     "name": "stdout",
     "output_type": "stream",
     "text": [
      "Accept user's first and last name, print in reverse order with space in between:\n",
      "Enter first name:nakul\n",
      "Enter last name:patel\n",
      "User's first and last name: nakul patel\n",
      "Reverse order of user name:  letap lukan\n"
     ]
    }
   ],
   "source": [
    "print(\"Accept user's first and last name, print in reverse order with space in between:\")\n",
    "\n",
    "first_name = input(\"Enter first name:\")\n",
    "last_name = input(\"Enter last name:\")\n",
    "\n",
    "print(\"User's first and last name: {} {}\".format(first_name, last_name))\n",
    "print(\"Reverse order of user name: \",last_name[::-1], first_name[::-1])"
   ]
  },
  {
   "cell_type": "code",
   "execution_count": 17,
   "metadata": {},
   "outputs": [
    {
     "name": "stdout",
     "output_type": "stream",
     "text": [
      "Find volume of sphere:\n",
      "Volumd of sphere: 7234.5599999999995\n"
     ]
    }
   ],
   "source": [
    "print(\"Find volume of sphere:\")\n",
    "\n",
    "print(\"Volumd of sphere:\", ((4/3) * 3.14 * (12**3)))"
   ]
  },
  {
   "cell_type": "code",
   "execution_count": 22,
   "metadata": {},
   "outputs": [
    {
     "name": "stdout",
     "output_type": "stream",
     "text": [
      "Generate list:\n",
      "Enter comma seperated numbers:0,1,2,3,4,5,6,7,8,9\n",
      "Comma seperated list of string values:  ['0', '1', '2', '3', '4', '5', '6', '7', '8', '9']\n",
      "Comma sepeated list of numeric values:  [0, 1, 2, 3, 4, 5, 6, 7, 8, 9]\n"
     ]
    }
   ],
   "source": [
    "print(\"Generate list:\")\n",
    "\n",
    "input_num = input(\"Enter comma seperated numbers:\")\n",
    "list_str = input_num.split(',')\n",
    "print(\"Comma seperated list of string values: \", list_str)\n",
    "list_num = []\n",
    "for i in list_str:\n",
    "    list_num.append(int(i))\n",
    "print(\"Comma sepeated list of numeric values: \",list_num)"
   ]
  },
  {
   "cell_type": "code",
   "execution_count": null,
   "metadata": {},
   "outputs": [],
   "source": [
    "column = 1\n",
    "\n",
    "for i in range(0, 10):\n",
    "    for j in range(1, column):\n",
    "        print(\"* \", end=\"\")\n",
    "    if(i < 5):\n",
    "        column+=1\n",
    "    else:\n",
    "        column-=1\n",
    "    print(\"\\r\")"
   ]
  },
  {
   "cell_type": "code",
   "execution_count": null,
   "metadata": {},
   "outputs": [],
   "source": [
    "print(\"Reverse input from user:\")\n",
    "input_txt = input(\"Enter word to see reverse:\")\n",
    "print(\"Reversed string: \", input_txt[::-1])"
   ]
  },
  {
   "cell_type": "code",
   "execution_count": null,
   "metadata": {},
   "outputs": [],
   "source": [
    "print(\"Alignment string:\")\n",
    "str1 = \"WE, THE PEOPLE OF INDIA,\"\n",
    "str2 = \"having solemnly resolved to constitute India into a SOVEREIGN, !\"\n",
    "str3 = \"SOCIALIST, SECULAR, DEMOCRATIC REPUBLIC\"\n",
    "str4 = \"and to secure to all its citizens\"\n",
    "\n",
    "print(str1)\n",
    "print(str2.rjust(70))\n",
    "print(str3.rjust(50))\n",
    "print(str4.rjust(45))\n"
   ]
  },
  {
   "cell_type": "code",
   "execution_count": null,
   "metadata": {},
   "outputs": [],
   "source": []
  }
 ],
 "metadata": {
  "kernelspec": {
   "display_name": "Python 3",
   "language": "python",
   "name": "python3"
  },
  "language_info": {
   "codemirror_mode": {
    "name": "ipython",
    "version": 3
   },
   "file_extension": ".py",
   "mimetype": "text/x-python",
   "name": "python",
   "nbconvert_exporter": "python",
   "pygments_lexer": "ipython3",
   "version": "3.7.3"
  }
 },
 "nbformat": 4,
 "nbformat_minor": 2
}
