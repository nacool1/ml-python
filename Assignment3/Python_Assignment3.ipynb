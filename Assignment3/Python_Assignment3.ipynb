{
 "cells": [
  {
   "cell_type": "markdown",
   "metadata": {},
   "source": [
    "### Write a program to compute 5/0 and use try/except to catch exception."
   ]
  },
  {
   "cell_type": "code",
   "execution_count": 7,
   "metadata": {},
   "outputs": [
    {
     "name": "stdout",
     "output_type": "stream",
     "text": [
      "Enter any number: 0\n",
      "Can't devide any number by zero: division by zero\n"
     ]
    }
   ],
   "source": [
    "\n",
    "num = int(input(\"Enter any number: \"))\n",
    "def devide_by_zero(num):\n",
    "        num / 0\n",
    "\n",
    "try:\n",
    "    devide_by_zero(num)\n",
    "except ZeroDivisionError as e:\n",
    "    print(\"Can't devide any number by zero:\", e)"
   ]
  },
  {
   "cell_type": "markdown",
   "metadata": {},
   "source": [
    "### Write python program to generate sentences using below lists.\n",
    "#### subjects=[\"Americans \",\"Indians\"]\n",
    "#### verbs=[\"play\",\"watch\"]\n",
    "#### objects=[\"Baseball\",\"Cricket\"]"
   ]
  },
  {
   "cell_type": "code",
   "execution_count": 21,
   "metadata": {},
   "outputs": [
    {
     "name": "stdout",
     "output_type": "stream",
     "text": [
      "Americans play Basebass.\n",
      "Americans play Cricket.\n",
      "Americans watch Basebass.\n",
      "Americans watch Cricket.\n",
      "Indians play Basebass.\n",
      "Indians play Cricket.\n",
      "Indians watch Basebass.\n",
      "Indians watch Cricket.\n"
     ]
    }
   ],
   "source": [
    "subjects = [\"Americans\", \"Indians\"]\n",
    "verbs = [\"play\", \"watch\"]\n",
    "objects = [\"Basebass\", \"Cricket\"]\n",
    "\n",
    "# create list of tuples using list comprehension.\n",
    "result_list = [(a, b, c) for a in subjects for b in verbs for c in objects]\n",
    "\n",
    "# Iterate over list of tuples and make sentences using string format.\n",
    "for result in result_list:\n",
    "    print(\"{} {} {}.\".format(*result) )"
   ]
  },
  {
   "cell_type": "markdown",
   "metadata": {},
   "source": [
    "### Write a function so that the columns of the output matrix are powers of the input vector."
   ]
  },
  {
   "cell_type": "code",
   "execution_count": 29,
   "metadata": {},
   "outputs": [
    {
     "name": "stdout",
     "output_type": "stream",
     "text": [
      "[1, 1, 1, 1]\n",
      "[16, 8, 4, 2]\n",
      "[81, 27, 9, 3]\n",
      "[256, 64, 16, 4]\n"
     ]
    }
   ],
   "source": [
    "x=[1,2,3,4]\n",
    "num=4\n",
    "def my_vander():\n",
    "    for d in x:\n",
    "        c=[d**number for number in range(1,num+1)]\n",
    "        print(c[::-1])\n",
    "my_vander()"
   ]
  },
  {
   "cell_type": "code",
   "execution_count": null,
   "metadata": {},
   "outputs": [],
   "source": []
  }
 ],
 "metadata": {
  "kernelspec": {
   "display_name": "Python 3",
   "language": "python",
   "name": "python3"
  },
  "language_info": {
   "codemirror_mode": {
    "name": "ipython",
    "version": 3
   },
   "file_extension": ".py",
   "mimetype": "text/x-python",
   "name": "python",
   "nbconvert_exporter": "python",
   "pygments_lexer": "ipython3",
   "version": "3.7.3"
  }
 },
 "nbformat": 4,
 "nbformat_minor": 2
}
