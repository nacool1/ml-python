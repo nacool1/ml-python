{
 "cells": [
  {
   "cell_type": "markdown",
   "metadata": {},
   "source": [
    "### Find area of triangle."
   ]
  },
  {
   "cell_type": "code",
   "execution_count": 13,
   "metadata": {},
   "outputs": [
    {
     "name": "stdout",
     "output_type": "stream",
     "text": [
      "Enter side A: 1\n",
      "Enter side B: 2\n",
      "Enter side C: 5\n",
      "Area of triangle:  (2.9997597730436923e-16+4.898979485566356j)\n"
     ]
    }
   ],
   "source": [
    "class TriangleSides:\n",
    "    \n",
    "    def getTriangleSides(self):\n",
    "        a = float(input(\"Enter side A: \"))\n",
    "        b = float(input(\"Enter side B: \"))\n",
    "        c = float(input(\"Enter side C: \"))\n",
    "        return a, b, c\n",
    "    \n",
    "class TriangleArea(TriangleSides):\n",
    "    \n",
    "    def getTriangleArea(self):\n",
    "        a, b, c = self.getTriangleSides();\n",
    "        s = (a+b+c)/2\n",
    "        area = (s*(s-a)*(s-b)*(s-c)) ** 0.5\n",
    "        return area\n",
    "    \n",
    "tri_area = TriangleArea()\n",
    "area = tri_area.getTriangleArea() \n",
    "\n",
    "print(\"Area of triangle: \", area)\n",
    "    \n",
    "    "
   ]
  },
  {
   "cell_type": "markdown",
   "metadata": {},
   "source": [
    "### Write function filter_long_words() that takes list of words and an integer n, and return list of words that are longer than given integer n"
   ]
  },
  {
   "cell_type": "code",
   "execution_count": 9,
   "metadata": {},
   "outputs": [
    {
     "name": "stdout",
     "output_type": "stream",
     "text": [
      "Original List is:  ['Write', 'a', 'function', 'filter_long_words()', 'that', 'takes', 'a', 'list', 'of', 'words', 'and', 'an', 'integer', 'n', 'and', 'returns', 'the', 'list', 'of', 'words', 'that', 'are', 'longer', 'than', 'n']\n",
      "\n",
      "New list is:  ['Write', 'function', 'filter_long_words()', 'that', 'takes', 'list', 'words', 'integer', 'returns', 'list', 'words', 'that', 'longer', 'than']\n"
     ]
    }
   ],
   "source": [
    "def filter_long_words(words_list, num):\n",
    "    new_list = [st for st in words_list if len(st) > num]\n",
    "    return new_list\n",
    "\n",
    "str1 = \"Write a function filter_long_words() that takes a list of words and an integer n and returns the list of words that are longer than n\"\n",
    "\n",
    "num = 3\n",
    "original_list = str1.split(' ')\n",
    "print(\"Original List is: \",original_list)\n",
    "\n",
    "# Find words that are longer than 3 chars.\n",
    "new_list = filter_long_words(original_list, num)\n",
    "\n",
    "print(\"\")\n",
    "print(\"New list is: \", new_list)"
   ]
  },
  {
   "cell_type": "markdown",
   "metadata": {},
   "source": [
    "### Python program that maps list of words into list of integers representing length of corresponding word."
   ]
  },
  {
   "cell_type": "code",
   "execution_count": 11,
   "metadata": {},
   "outputs": [
    {
     "name": "stdout",
     "output_type": "stream",
     "text": [
      "Number list:  [5, 1, 8, 19, 4, 5, 1, 4, 2, 5, 3, 2, 7, 1, 3, 7, 3, 4, 2, 5, 4, 3, 6, 4, 1]\n"
     ]
    }
   ],
   "source": [
    "def get_words_length(words_list):\n",
    "    num_list = [len(word) for word in words_list]\n",
    "    return num_list\n",
    "\n",
    "words_list = ['Write', 'a', 'function', 'filter_long_words()', 'that', 'takes', 'a', 'list', 'of', 'words', 'and', 'an', 'integer', 'n', 'and', 'returns', 'the', 'list', 'of', 'words', 'that', 'are', 'longer', 'than', 'n']\n",
    "\n",
    "# Get list of numbers represent legth of words.\n",
    "num_list = get_words_length(words_list)\n",
    "print(\"Number list: \", num_list)"
   ]
  },
  {
   "cell_type": "markdown",
   "metadata": {},
   "source": [
    "### Check if given character is Vowel or not."
   ]
  },
  {
   "cell_type": "code",
   "execution_count": 17,
   "metadata": {},
   "outputs": [
    {
     "name": "stdout",
     "output_type": "stream",
     "text": [
      "Enter a character: w\n",
      "w is a costant\n"
     ]
    }
   ],
   "source": [
    "ch = input(\"Enter a character: \")\n",
    "if(ch == 'A' or ch == 'E' or ch == 'I' or ch == 'O' or ch == 'U' or \n",
    "  ch == 'a' or ch == 'e' or ch == 'i' or ch == 'o' or ch == 'u' ):\n",
    "    print(ch, \"is a Vowel\")\n",
    "    \n",
    "else:\n",
    "    print(ch, \"is a costant\")"
   ]
  }
 ],
 "metadata": {
  "kernelspec": {
   "display_name": "Python 3",
   "language": "python",
   "name": "python3"
  },
  "language_info": {
   "codemirror_mode": {
    "name": "ipython",
    "version": 3
   },
   "file_extension": ".py",
   "mimetype": "text/x-python",
   "name": "python",
   "nbconvert_exporter": "python",
   "pygments_lexer": "ipython3",
   "version": "3.7.3"
  }
 },
 "nbformat": 4,
 "nbformat_minor": 2
}
